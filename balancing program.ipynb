{
 "cells": [
  {
   "cell_type": "code",
   "execution_count": 9,
   "metadata": {},
   "outputs": [],
   "source": [
    "#هنگام نوشتن معادله حتما به بزرگی و کوچکی حروف توجه کنید\n",
    "#برای جدا کردن مواد از یک دیگر حتما از فاصله و \"+\" استفاده کنید\n",
    "#خود عناصر و اعداد در یک ماده باید بدون فاصله باشند\n",
    "#C2H5OH = C2H6O باید در هر ماده هر عنصر تنها یک بار نوشته شود مثلا\n",
    "#برای مشخص کردن طرفین معادله حتما از \"=\" استفاده کنید \n",
    "#به طور مثال : FeCl2 + NaOH = Fe(OH)2 + NaCl\n",
    "#و یا : NaI + H2SO4 = H2S + I2 + Na2SO4 + H2O\n",
    "#اگر نکات بالا را رعایت نکنید پاسخ اشتباه دریافت میکنید \n",
    "\n",
    "import sympy as sp\n",
    "from sympy import *\n",
    "from fractions import Fraction\n",
    "import re"
   ]
  },
  {
   "cell_type": "code",
   "execution_count": 6,
   "metadata": {
    "scrolled": true
   },
   "outputs": [
    {
     "name": "stdout",
     "output_type": "stream",
     "text": [
      "NaI + H2SO4 = H2S + I2 + Na2SO4 + H2O\n"
     ]
    }
   ],
   "source": [
    "vorodi=input()"
   ]
  },
  {
   "cell_type": "code",
   "execution_count": 7,
   "metadata": {},
   "outputs": [],
   "source": [
    "for i in range(0,len(vorodi)):\n",
    "    if vorodi[i]=='=':\n",
    "        x=i"
   ]
  },
  {
   "cell_type": "code",
   "execution_count": 10,
   "metadata": {},
   "outputs": [
    {
     "name": "stdout",
     "output_type": "stream",
     "text": [
      "['Na', 'I', 'H', 'S', 'O']\n"
     ]
    }
   ],
   "source": [
    "anasor=re.findall('([A-Z][a-z]*)',vorodi)\n",
    "\n",
    "anasor=list(dict.fromkeys(anasor))\n",
    "\n",
    "print(anasor)\n"
   ]
  },
  {
   "cell_type": "code",
   "execution_count": 11,
   "metadata": {},
   "outputs": [
    {
     "name": "stdout",
     "output_type": "stream",
     "text": [
      "['NaI ', 'H2SO4 ']\n",
      "['H2S ', 'I2 ', 'Na2SO4 ', 'H2O ']\n"
     ]
    }
   ],
   "source": [
    "L_vorodi_v=[]\n",
    "L_vorodi_f=[]\n",
    "y=0\n",
    "\n",
    "for i in range(0,x):\n",
    "    if vorodi[i]==\"+\":\n",
    "        L_vorodi_v.append(vorodi[y:i-1] + \" \")\n",
    "        y=i+2\n",
    "L_vorodi_v.append(vorodi[y:x-1] + \" \")\n",
    "\n",
    "\n",
    "y=x+2\n",
    "\n",
    "for i in range(x+1,len(vorodi)):\n",
    "    if vorodi[i]==\"+\":\n",
    "        L_vorodi_f.append(vorodi[y:i-1] + \" \")\n",
    "        y=i+2\n",
    "L_vorodi_f.append(vorodi[y:len(vorodi)+1]+ \" \")\n",
    "        \n",
    "print(L_vorodi_v)\n",
    "print(L_vorodi_f)\n",
    "\n"
   ]
  },
  {
   "cell_type": "code",
   "execution_count": 12,
   "metadata": {},
   "outputs": [
    {
     "name": "stdout",
     "output_type": "stream",
     "text": [
      "[v0, v1]\n"
     ]
    }
   ],
   "source": [
    "tedad_vakoneshdahande=1\n",
    "m_v=[]\n",
    "\n",
    "for i in range(0,x):\n",
    "    if vorodi[i]==\"+\":\n",
    "        tedad_vakoneshdahande+=1\n",
    "        \n",
    "for i in range(0,tedad_vakoneshdahande):\n",
    "    m_v.append(symbols(\"v{0}\".format(i)))\n",
    "    \n",
    "\n",
    "print(m_v)"
   ]
  },
  {
   "cell_type": "code",
   "execution_count": 13,
   "metadata": {},
   "outputs": [
    {
     "name": "stdout",
     "output_type": "stream",
     "text": [
      "[f0, f1, f2, f3]\n"
     ]
    }
   ],
   "source": [
    "tedad_faravarde=1\n",
    "m_f=[]\n",
    "\n",
    "for i in range(x+1,len(vorodi)):\n",
    "    if vorodi[i]==\"+\":\n",
    "        tedad_faravarde+=1\n",
    "        \n",
    "for i in range(0,tedad_faravarde):\n",
    "    m_f.append(symbols(\"f{0}\".format(i)))\n",
    "   \n",
    "    \n",
    "print(m_f)"
   ]
  },
  {
   "cell_type": "code",
   "execution_count": 14,
   "metadata": {},
   "outputs": [
    {
     "name": "stdout",
     "output_type": "stream",
     "text": [
      "[-2*f2 + v0, -2*f1 + v0, -2*f0 - 2*f3 + 2*v1, -f0 - f2 + v1, -4*f2 - f3 + 4*v1]\n"
     ]
    }
   ],
   "source": [
    "Q_v=[]\n",
    "Q_f=[]\n",
    "Q=[]\n",
    "a=[\"1\",\"2\",\"3\",\"4\",\"5\",\"6\",\"7\",\"8\",\"9\"]\n",
    "\n",
    "for i in range(len(anasor)): \n",
    "    Q_v.append(0)\n",
    "    Q_f.append(0)\n",
    "    \n",
    "    for g in range(0,len(L_vorodi_v)):\n",
    "        if anasor[i] in L_vorodi_v[g]:\n",
    "            adad_v=1\n",
    "            z=L_vorodi_v[g].find(anasor[i])\n",
    "            \n",
    "            if len(anasor[i])==2:\n",
    "                z+=1\n",
    "            \n",
    "            if \")\" in L_vorodi_v[g][z:] and \"(\" not in L_vorodi_v[g][z:]:\n",
    "                w=L_vorodi_v[g].find(\")\")\n",
    "                adad_v_L_1=re.findall(r'\\d+',L_vorodi_v[g][w:])\n",
    "                adad_v*=adad_v_L_1[0]\n",
    "                \n",
    "            if L_vorodi_v[g][z+1] in a:\n",
    "                adad_v_L_2=re.findall(r'\\d+',L_vorodi_v[g][z:])\n",
    "                adad_v*=adad_v_L_2[0]\n",
    "                \n",
    "            \n",
    "            \n",
    "            Q_v[i]+=int(adad_v)*m_v[g]\n",
    "             \n",
    "             \n",
    "                      \n",
    "    for j in range(0,len(L_vorodi_f)):\n",
    "        if anasor[i] in L_vorodi_f[j]:\n",
    "            adad_f=1\n",
    "            z=L_vorodi_f[j].find(anasor[i])\n",
    "            \n",
    "            if len(anasor[i])==2:\n",
    "                z+=1\n",
    "                \n",
    "            if \")\" in L_vorodi_f[j][z:] and \"(\" not in L_vorodi_f[j][z:]:\n",
    "                w=L_vorodi_f[j].find(\")\")\n",
    "                adad_f_L_1=re.findall(r'\\d+',L_vorodi_f[j][w:])\n",
    "                adad_f*=adad_f_L_1[0]\n",
    "                \n",
    "            if L_vorodi_f[j][z+1] in a:\n",
    "                adad_f_L_2=re.findall(r'\\d+',L_vorodi_f[j][z:])\n",
    "                adad_f*=adad_f_L_2[0]\n",
    "            \n",
    "            \n",
    "            \n",
    "            Q_f[i]+=int(adad_f)*m_f[j]\n",
    "            \n",
    "    \n",
    "    Q.append(Q_v[i]-Q_f[i])\n",
    "\n",
    "print(Q)\n"
   ]
  },
  {
   "cell_type": "code",
   "execution_count": 15,
   "metadata": {
    "scrolled": false
   },
   "outputs": [
    {
     "name": "stdout",
     "output_type": "stream",
     "text": [
      "[(2*f3, 5*f3/4, f3/4, f3, f3, f3)]\n",
      "[2, 5/4, 1/4, 1, 1, 1]\n"
     ]
    }
   ],
   "source": [
    "m=m_v+m_f\n",
    "J=list(linsolve(Q,m))\n",
    "javab=[]\n",
    "\n",
    "\n",
    "for i in range(len(m)):\n",
    "    if 'number' in str(type(J[0][0]/m[i])):\n",
    "        k=m[i]\n",
    "\n",
    "\n",
    "for i in range(len(m)):\n",
    "    javab.append(J[0][i]/k)\n",
    "\n",
    "\n",
    "print(J)    \n",
    "print(javab)\n"
   ]
  },
  {
   "cell_type": "code",
   "execution_count": 16,
   "metadata": {},
   "outputs": [
    {
     "name": "stdout",
     "output_type": "stream",
     "text": [
      "[8, 5, 1, 4, 4, 4]\n"
     ]
    }
   ],
   "source": [
    "#making suitable number with strange type\n",
    "\n",
    "for i in range(len(m)):\n",
    "    if \"Int\" not in str(type(javab[i])) and \"One\" not in str(type(javab[i])):\n",
    "        n=Fraction(str(javab[i]))\n",
    "        n=n.denominator\n",
    "        for g in range(len(m)):\n",
    "            javab[g]*=n\n",
    "        \n",
    "print(javab)"
   ]
  },
  {
   "cell_type": "code",
   "execution_count": 17,
   "metadata": {},
   "outputs": [
    {
     "name": "stdout",
     "output_type": "stream",
     "text": [
      "8 NaI + 5 H2SO4 = 1 H2S + 4 I2 + 4 Na2SO4 + 4 H2O  \n"
     ]
    }
   ],
   "source": [
    "for i in range(len(m)):\n",
    "    javab[i]=str(javab[i])\n",
    "\n",
    "khoroji=[]    \n",
    "L_vorodi=L_vorodi_v+L_vorodi_f\n",
    "\n",
    "for i in range(len(m)):\n",
    "    if i == len(L_vorodi_v)-1:\n",
    "        alamat=\"=\"\n",
    "    elif i == len(m)-1:\n",
    "        alamat=\" \"\n",
    "    else:\n",
    "        alamat=\"+\"\n",
    "    khoroji.append(javab[i]+\" \"+L_vorodi[i]+alamat)\n",
    "\n",
    "print(*khoroji)"
   ]
  },
  {
   "cell_type": "code",
   "execution_count": 12,
   "metadata": {},
   "outputs": [],
   "source": [
    "\n",
    "    #re.findall(r'\\d+',)\n"
   ]
  },
  {
   "cell_type": "code",
   "execution_count": null,
   "metadata": {},
   "outputs": [],
   "source": []
  }
 ],
 "metadata": {
  "kernelspec": {
   "display_name": "Python 3",
   "language": "python",
   "name": "python3"
  },
  "language_info": {
   "codemirror_mode": {
    "name": "ipython",
    "version": 3
   },
   "file_extension": ".py",
   "mimetype": "text/x-python",
   "name": "python",
   "nbconvert_exporter": "python",
   "pygments_lexer": "ipython3",
   "version": "3.8.2"
  }
 },
 "nbformat": 4,
 "nbformat_minor": 4
}
